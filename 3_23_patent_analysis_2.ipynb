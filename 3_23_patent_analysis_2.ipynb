{
  "nbformat": 4,
  "nbformat_minor": 0,
  "metadata": {
    "colab": {
      "name": "3/23 patent analysis.ipynb",
      "provenance": [],
      "collapsed_sections": []
    },
    "kernelspec": {
      "name": "python3",
      "display_name": "Python 3"
    },
    "language_info": {
      "name": "python"
    }
  },
  "cells": [
    {
      "cell_type": "code",
      "metadata": {
        "id": "SMimpKt1aI4w"
      },
      "source": [
        "import io\n",
        "import pandas as pd\n",
        "from google.colab import files\n",
        "import matplotlib.pyplot as plt\n",
        "import datetime\n",
        "from pandas import Series, DataFrame"
      ],
      "execution_count": 1,
      "outputs": []
    },
    {
      "cell_type": "code",
      "metadata": {
        "colab": {
          "resources": {
            "http://localhost:8080/nbextensions/google.colab/files.js": {
              "data": "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",
              "ok": true,
              "headers": [
                [
                  "content-type",
                  "application/javascript"
                ]
              ],
              "status": 200,
              "status_text": ""
            }
          },
          "base_uri": "https://localhost:8080/",
          "height": 351
        },
        "id": "v-TkvP8Oalam",
        "outputId": "877c504b-6297-46b3-9630-ebc4a2582489"
      },
      "source": [
        "uploaded = files.upload()"
      ],
      "execution_count": 2,
      "outputs": [
        {
          "output_type": "display_data",
          "data": {
            "text/html": [
              "\n",
              "     <input type=\"file\" id=\"files-e52f5854-318e-4839-92c1-018da896cb91\" name=\"files[]\" multiple disabled\n",
              "        style=\"border:none\" />\n",
              "     <output id=\"result-e52f5854-318e-4839-92c1-018da896cb91\">\n",
              "      Upload widget is only available when the cell has been executed in the\n",
              "      current browser session. Please rerun this cell to enable.\n",
              "      </output>\n",
              "      <script src=\"/nbextensions/google.colab/files.js\"></script> "
            ],
            "text/plain": [
              "<IPython.core.display.HTML object>"
            ]
          },
          "metadata": {
            "tags": []
          }
        },
        {
          "output_type": "stream",
          "text": [
            "Saving 1-2000TextDown_20210322_pm010735_2000.xlsx to 1-2000TextDown_20210322_pm010735_2000 (4).xlsx\n",
            "Saving 2001-4000TextDown_20210322_pm011625_2000.xlsx to 2001-4000TextDown_20210322_pm011625_2000 (4).xlsx\n",
            "Saving 4001-6000TextDown_20210322_pm012705_2000.xlsx to 4001-6000TextDown_20210322_pm012705_2000 (4).xlsx\n",
            "Saving 6001-8000TextDown_20210322_pm013957_2000.xlsx to 6001-8000TextDown_20210322_pm013957_2000 (4).xlsx\n",
            "Saving 8001-10000TextDown_20210322_pm014511_2000.xlsx to 8001-10000TextDown_20210322_pm014511_2000 (4).xlsx\n",
            "Saving 10001-12000TextDown_20210323_pm014026_2000.xlsx to 10001-12000TextDown_20210323_pm014026_2000 (4).xlsx\n",
            "Saving 12001-14000TextDown_20210323_pm014212_2000.xlsx to 12001-14000TextDown_20210323_pm014212_2000 (4).xlsx\n",
            "Saving 14001-16000TextDown_20210323_pm014355_2000.xlsx to 14001-16000TextDown_20210323_pm014355_2000 (4).xlsx\n",
            "Saving 16001-17049TextDown_20210323_pm014532_1049.xlsx to 16001-17049TextDown_20210323_pm014532_1049 (4).xlsx\n"
          ],
          "name": "stdout"
        }
      ]
    },
    {
      "cell_type": "code",
      "metadata": {
        "id": "biiV3FU8a1qR"
      },
      "source": [
        "df_1 = pd.read_excel(io.BytesIO(uploaded.get('1-2000TextDown_20210322_pm010735_2000.xlsx')))\n",
        "df_2 = pd.read_excel(io.BytesIO(uploaded.get('2001-4000TextDown_20210322_pm011625_2000.xlsx')))\n",
        "df_3 = pd.read_excel(io.BytesIO(uploaded.get('4001-6000TextDown_20210322_pm012705_2000.xlsx')))\n",
        "df_4 = pd.read_excel(io.BytesIO(uploaded.get('6001-8000TextDown_20210322_pm013957_2000.xlsx')))\n",
        "df_5 = pd.read_excel(io.BytesIO(uploaded.get('8001-10000TextDown_20210322_pm014511_2000.xlsx')))\n",
        "df_6 = pd.read_excel(io.BytesIO(uploaded.get('10001-12000TextDown_20210323_pm014026_2000.xlsx')))\n",
        "df_7 = pd.read_excel(io.BytesIO(uploaded.get('12001-14000TextDown_20210323_pm014212_2000.xlsx')))\n",
        "df_8 = pd.read_excel(io.BytesIO(uploaded.get('14001-16000TextDown_20210323_pm014355_2000.xlsx')))\n",
        "df_9 = pd.read_excel(io.BytesIO(uploaded.get('16001-17049TextDown_20210323_pm014532_1049.xlsx')))"
      ],
      "execution_count": 3,
      "outputs": []
    },
    {
      "cell_type": "code",
      "metadata": {
        "id": "MLoBr58McnZr"
      },
      "source": [
        "df = pd.concat([df_1, df_2, df_3, df_4, df_5, df_6, df_7, df_8, df_9], sort=False)"
      ],
      "execution_count": 4,
      "outputs": []
    },
    {
      "cell_type": "code",
      "metadata": {
        "colab": {
          "base_uri": "https://localhost:8080/"
        },
        "id": "WHlc8DQhdEqQ",
        "outputId": "e93b3597-f79e-4f46-8255-360f83b81fdf"
      },
      "source": [
        "len(df)"
      ],
      "execution_count": 5,
      "outputs": [
        {
          "output_type": "execute_result",
          "data": {
            "text/plain": [
              "17049"
            ]
          },
          "metadata": {
            "tags": []
          },
          "execution_count": 5
        }
      ]
    },
    {
      "cell_type": "code",
      "metadata": {
        "colab": {
          "base_uri": "https://localhost:8080/",
          "height": 766
        },
        "id": "_EgayaUAd27Z",
        "outputId": "88e95457-0c28-481c-cff3-fb5c1b52dba6"
      },
      "source": [
        "df.head()"
      ],
      "execution_count": 6,
      "outputs": [
        {
          "output_type": "execute_result",
          "data": {
            "text/html": [
              "<div>\n",
              "<style scoped>\n",
              "    .dataframe tbody tr th:only-of-type {\n",
              "        vertical-align: middle;\n",
              "    }\n",
              "\n",
              "    .dataframe tbody tr th {\n",
              "        vertical-align: top;\n",
              "    }\n",
              "\n",
              "    .dataframe thead th {\n",
              "        text-align: right;\n",
              "    }\n",
              "</style>\n",
              "<table border=\"1\" class=\"dataframe\">\n",
              "  <thead>\n",
              "    <tr style=\"text-align: right;\">\n",
              "      <th></th>\n",
              "      <th>국가코드</th>\n",
              "      <th>DB종류</th>\n",
              "      <th>특허/실용 구분</th>\n",
              "      <th>문헌종류 코드</th>\n",
              "      <th>발명의 명칭</th>\n",
              "      <th>요약</th>\n",
              "      <th>대표청구항</th>\n",
              "      <th>청구항 수</th>\n",
              "      <th>출원번호</th>\n",
              "      <th>출원일</th>\n",
              "      <th>공개번호/공표/재공표</th>\n",
              "      <th>공개일</th>\n",
              "      <th>등록번호</th>\n",
              "      <th>등록일</th>\n",
              "      <th>출원인</th>\n",
              "      <th>출원인 국적</th>\n",
              "      <th>발명자/고안자</th>\n",
              "      <th>우선권 번호</th>\n",
              "      <th>우선권 국가</th>\n",
              "      <th>우선권 주장일</th>\n",
              "      <th>WIPS ON key</th>\n",
              "      <th>출원인수</th>\n",
              "    </tr>\n",
              "  </thead>\n",
              "  <tbody>\n",
              "    <tr>\n",
              "      <th>0</th>\n",
              "      <td>KR</td>\n",
              "      <td>KR</td>\n",
              "      <td>P</td>\n",
              "      <td>A</td>\n",
              "      <td>블루투스-초광대역 동기화</td>\n",
              "      <td>UWB 무선 통신 장치들이 좁은 송신/수신 윈도우들 내에서 동작할 수 있게 하기 위...</td>\n",
              "      <td>무선 통신 디바이스로서, 제1 무선 통신 장치(radio) - 상기 제1 무선 통신...</td>\n",
              "      <td>20.0</td>\n",
              "      <td>10-2020-0111671</td>\n",
              "      <td>2020-09-02</td>\n",
              "      <td>10-2021-0029682</td>\n",
              "      <td>2021-03-16</td>\n",
              "      <td>NaN</td>\n",
              "      <td>NaN</td>\n",
              "      <td>애플 인크.</td>\n",
              "      <td>US</td>\n",
              "      <td>하리하란, 스리람 | 와사다, 랭포드 엠.</td>\n",
              "      <td>62/897100 | 16/745208</td>\n",
              "      <td>US | US</td>\n",
              "      <td>2019-09-06 | 2020-01-16</td>\n",
              "      <td>3521121001015</td>\n",
              "      <td>1</td>\n",
              "    </tr>\n",
              "    <tr>\n",
              "      <th>1</th>\n",
              "      <td>US</td>\n",
              "      <td>US</td>\n",
              "      <td>P</td>\n",
              "      <td>B2</td>\n",
              "      <td>LED desk light having more than one function</td>\n",
              "      <td>The LED desk light has more than one function ...</td>\n",
              "      <td>1. A desk or table or cabinet top LED light ha...</td>\n",
              "      <td>16.0</td>\n",
              "      <td>14/951872</td>\n",
              "      <td>2015-11-25</td>\n",
              "      <td>2016-0153650</td>\n",
              "      <td>2016-06-02</td>\n",
              "      <td>10948175</td>\n",
              "      <td>2021-03-16</td>\n",
              "      <td>Tseng-Lu Chien</td>\n",
              "      <td>US</td>\n",
              "      <td>Tseng-Lu Chien</td>\n",
              "      <td>NaN</td>\n",
              "      <td>NaN</td>\n",
              "      <td>NaN</td>\n",
              "      <td>4921012003516</td>\n",
              "      <td>1</td>\n",
              "    </tr>\n",
              "    <tr>\n",
              "      <th>2</th>\n",
              "      <td>US</td>\n",
              "      <td>US</td>\n",
              "      <td>P</td>\n",
              "      <td>B2</td>\n",
              "      <td>System and method to protect original music fr...</td>\n",
              "      <td>Provided is a new digital music storage and re...</td>\n",
              "      <td>1. A piracy-resistant music packaging and play...</td>\n",
              "      <td>20.0</td>\n",
              "      <td>16/101424</td>\n",
              "      <td>2018-08-11</td>\n",
              "      <td>2019-0050542</td>\n",
              "      <td>2019-02-14</td>\n",
              "      <td>10949508</td>\n",
              "      <td>2021-03-16</td>\n",
              "      <td>PRODUCTIONPAL, LLC</td>\n",
              "      <td>US</td>\n",
              "      <td>Wayne T. Armstrong | Jamie M. Boxell | Robert ...</td>\n",
              "      <td>NaN</td>\n",
              "      <td>NaN</td>\n",
              "      <td>NaN</td>\n",
              "      <td>4921012004836</td>\n",
              "      <td>1</td>\n",
              "    </tr>\n",
              "    <tr>\n",
              "      <th>3</th>\n",
              "      <td>US</td>\n",
              "      <td>US</td>\n",
              "      <td>P</td>\n",
              "      <td>B2</td>\n",
              "      <td>Ephemeral geofence campaign system</td>\n",
              "      <td>Systems and methods for modifying campaign dep...</td>\n",
              "      <td>1. A method comprising: creating, by a process...</td>\n",
              "      <td>20.0</td>\n",
              "      <td>16/517801</td>\n",
              "      <td>2019-07-22</td>\n",
              "      <td>2019-0340651</td>\n",
              "      <td>2019-11-07</td>\n",
              "      <td>10949884</td>\n",
              "      <td>2021-03-16</td>\n",
              "      <td>International Business Machines Corporation</td>\n",
              "      <td>US</td>\n",
              "      <td>Andrew B. Cornwall | Lisa Seacat DeLuca | Pooj...</td>\n",
              "      <td>NaN</td>\n",
              "      <td>NaN</td>\n",
              "      <td>NaN</td>\n",
              "      <td>4921012005208</td>\n",
              "      <td>1</td>\n",
              "    </tr>\n",
              "    <tr>\n",
              "      <th>4</th>\n",
              "      <td>US</td>\n",
              "      <td>US</td>\n",
              "      <td>P</td>\n",
              "      <td>B2</td>\n",
              "      <td>Bluetooth speaker base, method and system for ...</td>\n",
              "      <td>The present disclosure provides a Bluetooth sp...</td>\n",
              "      <td>1. A method for controlling a Bluetooth speake...</td>\n",
              "      <td>12.0</td>\n",
              "      <td>16/813070</td>\n",
              "      <td>2020-03-09</td>\n",
              "      <td>2020-0402513</td>\n",
              "      <td>2020-12-24</td>\n",
              "      <td>10950238</td>\n",
              "      <td>2021-03-16</td>\n",
              "      <td>BAIDU ONLINE NETWORK TECHNOLOGY (BEIJING) CO.,...</td>\n",
              "      <td>CN</td>\n",
              "      <td>Xujie Zhu | Jingran Li | Chao Tian | Shoukuan ...</td>\n",
              "      <td>2019-10532552</td>\n",
              "      <td>CN</td>\n",
              "      <td>2019-06-19</td>\n",
              "      <td>4921012005561</td>\n",
              "      <td>1</td>\n",
              "    </tr>\n",
              "  </tbody>\n",
              "</table>\n",
              "</div>"
            ],
            "text/plain": [
              "  국가코드 DB종류 특허/실용 구분  ...                  우선권 주장일    WIPS ON key 출원인수\n",
              "0   KR   KR        P  ...  2019-09-06 | 2020-01-16  3521121001015    1\n",
              "1   US   US        P  ...                      NaN  4921012003516    1\n",
              "2   US   US        P  ...                      NaN  4921012004836    1\n",
              "3   US   US        P  ...                      NaN  4921012005208    1\n",
              "4   US   US        P  ...               2019-06-19  4921012005561    1\n",
              "\n",
              "[5 rows x 22 columns]"
            ]
          },
          "metadata": {
            "tags": []
          },
          "execution_count": 6
        }
      ]
    },
    {
      "cell_type": "code",
      "metadata": {
        "colab": {
          "base_uri": "https://localhost:8080/"
        },
        "id": "MTQVFk9cdPsN",
        "outputId": "93071ffa-1c74-4f24-b76c-5434e7abb59d"
      },
      "source": [
        "print(df.head().T)"
      ],
      "execution_count": 7,
      "outputs": [
        {
          "output_type": "stream",
          "text": [
            "                                                              0  ...                                                  4\n",
            "국가코드                                                         KR  ...                                                 US\n",
            "DB종류                                                         KR  ...                                                 US\n",
            "특허/실용 구분                                                      P  ...                                                  P\n",
            "문헌종류 코드                                                       A  ...                                                 B2\n",
            "발명의 명칭                                            블루투스-초광대역 동기화  ...  Bluetooth speaker base, method and system for ...\n",
            "요약            UWB 무선 통신 장치들이 좁은 송신/수신 윈도우들 내에서 동작할 수 있게 하기 위...  ...  The present disclosure provides a Bluetooth sp...\n",
            "대표청구항         무선 통신 디바이스로서, 제1 무선 통신 장치(radio) - 상기 제1 무선 통신...  ...  1. A method for controlling a Bluetooth speake...\n",
            "청구항 수                                                        20  ...                                                 12\n",
            "출원번호                                            10-2020-0111671  ...                                          16/813070\n",
            "출원일                                                  2020-09-02  ...                                         2020-03-09\n",
            "공개번호/공표/재공표                                     10-2021-0029682  ...                                       2020-0402513\n",
            "공개일                                                  2021-03-16  ...                                         2020-12-24\n",
            "등록번호                                                        NaN  ...                                           10950238\n",
            "등록일                                                         NaN  ...                                         2021-03-16\n",
            "출원인                                                      애플 인크.  ...  BAIDU ONLINE NETWORK TECHNOLOGY (BEIJING) CO.,...\n",
            "출원인 국적                                                       US  ...                                                 CN\n",
            "발명자/고안자                                 하리하란, 스리람 | 와사다, 랭포드 엠.  ...  Xujie Zhu | Jingran Li | Chao Tian | Shoukuan ...\n",
            "우선권 번호                                    62/897100 | 16/745208  ...                                      2019-10532552\n",
            "우선권 국가                                                  US | US  ...                                                 CN\n",
            "우선권 주장일                                 2019-09-06 | 2020-01-16  ...                                         2019-06-19\n",
            "WIPS ON key                                       3521121001015  ...                                      4921012005561\n",
            "출원인수                                                          1  ...                                                  1\n",
            "\n",
            "[22 rows x 5 columns]\n"
          ],
          "name": "stdout"
        }
      ]
    },
    {
      "cell_type": "code",
      "metadata": {
        "id": "gw2QAiZkfQDF"
      },
      "source": [
        "nations = list(df['국가코드'].unique())"
      ],
      "execution_count": 8,
      "outputs": []
    },
    {
      "cell_type": "code",
      "metadata": {
        "colab": {
          "base_uri": "https://localhost:8080/"
        },
        "id": "g7xJ4ttNetm5",
        "outputId": "21b9c96d-d154-4926-d546-6290d047ed1d"
      },
      "source": [
        "for nation in nations :\n",
        "  print(nation, end=' ')\n",
        "  print(len(df[df['국가코드'] == nation]))"
      ],
      "execution_count": 9,
      "outputs": [
        {
          "output_type": "stream",
          "text": [
            "KR 5475\n",
            "US 8376\n",
            "EP 1871\n",
            "JP 1327\n"
          ],
          "name": "stdout"
        }
      ]
    },
    {
      "cell_type": "code",
      "metadata": {
        "id": "2RthkicLj1nR"
      },
      "source": [
        "df['출원일'] = pd.to_datetime(df['출원일'], format=\"%Y/%m/%d\")"
      ],
      "execution_count": 10,
      "outputs": []
    },
    {
      "cell_type": "code",
      "metadata": {
        "id": "wiyuThlqnKTo"
      },
      "source": [
        "df['Year'] = df['출원일'].dt.strftime('%Y')"
      ],
      "execution_count": 11,
      "outputs": []
    },
    {
      "cell_type": "code",
      "metadata": {
        "colab": {
          "base_uri": "https://localhost:8080/"
        },
        "id": "uN2YF9xjnX0o",
        "outputId": "f6e6732a-a1b5-4723-aac2-1ab833b52f5d"
      },
      "source": [
        "df['Year'].unique()"
      ],
      "execution_count": 12,
      "outputs": [
        {
          "output_type": "execute_result",
          "data": {
            "text/plain": [
              "array(['2020', '2015', '2018', '2019', '2017', '2016', '2011', '2012',\n",
              "       '2014', '2021', '2013', '2009', '2010', '2002', '2007', nan,\n",
              "       '2003', '2000', '2008', '2005', '2006', '2001', '2004'],\n",
              "      dtype=object)"
            ]
          },
          "metadata": {
            "tags": []
          },
          "execution_count": 12
        }
      ]
    },
    {
      "cell_type": "code",
      "metadata": {
        "id": "51GSn-oypMPf"
      },
      "source": [
        "df = df.dropna(axis=0, subset=['Year'])"
      ],
      "execution_count": 13,
      "outputs": []
    },
    {
      "cell_type": "code",
      "metadata": {
        "colab": {
          "base_uri": "https://localhost:8080/"
        },
        "id": "ChPvdfr5pYec",
        "outputId": "ee04e50a-bbb0-4b7c-e7dd-eef4edaed23b"
      },
      "source": [
        "df['Year'].unique()"
      ],
      "execution_count": 14,
      "outputs": [
        {
          "output_type": "execute_result",
          "data": {
            "text/plain": [
              "array(['2020', '2015', '2018', '2019', '2017', '2016', '2011', '2012',\n",
              "       '2014', '2021', '2013', '2009', '2010', '2002', '2007', '2003',\n",
              "       '2000', '2008', '2005', '2006', '2001', '2004'], dtype=object)"
            ]
          },
          "metadata": {
            "tags": []
          },
          "execution_count": 14
        }
      ]
    },
    {
      "cell_type": "code",
      "metadata": {
        "id": "E6rZrEVooWx1"
      },
      "source": [
        "df = df[df['Year'].astype(int) >= 2011]"
      ],
      "execution_count": 15,
      "outputs": []
    },
    {
      "cell_type": "code",
      "metadata": {
        "id": "ooKpyhd4whKe"
      },
      "source": [
        "df = df[df['Year'].astype(int) < 2021]"
      ],
      "execution_count": 16,
      "outputs": []
    },
    {
      "cell_type": "code",
      "metadata": {
        "colab": {
          "base_uri": "https://localhost:8080/"
        },
        "id": "YJspENVKsAQm",
        "outputId": "93cf37ed-7532-442e-8242-f95f915be9e6"
      },
      "source": [
        "df['Year'].unique()"
      ],
      "execution_count": 17,
      "outputs": [
        {
          "output_type": "execute_result",
          "data": {
            "text/plain": [
              "array(['2020', '2015', '2018', '2019', '2017', '2016', '2011', '2012',\n",
              "       '2014', '2013'], dtype=object)"
            ]
          },
          "metadata": {
            "tags": []
          },
          "execution_count": 17
        }
      ]
    },
    {
      "cell_type": "code",
      "metadata": {
        "id": "yDQwWa2jpm_F"
      },
      "source": [
        "years = df['Year'].unique()\n",
        "sum_year = {}"
      ],
      "execution_count": 18,
      "outputs": []
    },
    {
      "cell_type": "code",
      "metadata": {
        "colab": {
          "base_uri": "https://localhost:8080/"
        },
        "id": "TZ20zeBnRSeI",
        "outputId": "5868f1b0-5cb9-44b3-989d-aef4c3682391"
      },
      "source": [
        "print(df.groupby('Year'))"
      ],
      "execution_count": 19,
      "outputs": [
        {
          "output_type": "stream",
          "text": [
            "<pandas.core.groupby.generic.DataFrameGroupBy object at 0x7f807131da90>\n"
          ],
          "name": "stdout"
        }
      ]
    },
    {
      "cell_type": "code",
      "metadata": {
        "id": "yF25LXN5pxoB"
      },
      "source": [
        "plot1 = df.groupby('Year', as_index=False).size()\n",
        "plot1 = DataFrame(plot1)"
      ],
      "execution_count": 20,
      "outputs": []
    },
    {
      "cell_type": "code",
      "metadata": {
        "colab": {
          "base_uri": "https://localhost:8080/",
          "height": 343
        },
        "id": "JlcV7a7Kw0vG",
        "outputId": "7161698e-6f4a-439f-987c-5d150a93cc8d"
      },
      "source": [
        "plot1"
      ],
      "execution_count": 21,
      "outputs": [
        {
          "output_type": "execute_result",
          "data": {
            "text/html": [
              "<div>\n",
              "<style scoped>\n",
              "    .dataframe tbody tr th:only-of-type {\n",
              "        vertical-align: middle;\n",
              "    }\n",
              "\n",
              "    .dataframe tbody tr th {\n",
              "        vertical-align: top;\n",
              "    }\n",
              "\n",
              "    .dataframe thead th {\n",
              "        text-align: right;\n",
              "    }\n",
              "</style>\n",
              "<table border=\"1\" class=\"dataframe\">\n",
              "  <thead>\n",
              "    <tr style=\"text-align: right;\">\n",
              "      <th></th>\n",
              "      <th>Year</th>\n",
              "      <th>size</th>\n",
              "    </tr>\n",
              "  </thead>\n",
              "  <tbody>\n",
              "    <tr>\n",
              "      <th>0</th>\n",
              "      <td>2011</td>\n",
              "      <td>998</td>\n",
              "    </tr>\n",
              "    <tr>\n",
              "      <th>1</th>\n",
              "      <td>2012</td>\n",
              "      <td>981</td>\n",
              "    </tr>\n",
              "    <tr>\n",
              "      <th>2</th>\n",
              "      <td>2013</td>\n",
              "      <td>1039</td>\n",
              "    </tr>\n",
              "    <tr>\n",
              "      <th>3</th>\n",
              "      <td>2014</td>\n",
              "      <td>1127</td>\n",
              "    </tr>\n",
              "    <tr>\n",
              "      <th>4</th>\n",
              "      <td>2015</td>\n",
              "      <td>1647</td>\n",
              "    </tr>\n",
              "    <tr>\n",
              "      <th>5</th>\n",
              "      <td>2016</td>\n",
              "      <td>2092</td>\n",
              "    </tr>\n",
              "    <tr>\n",
              "      <th>6</th>\n",
              "      <td>2017</td>\n",
              "      <td>2193</td>\n",
              "    </tr>\n",
              "    <tr>\n",
              "      <th>7</th>\n",
              "      <td>2018</td>\n",
              "      <td>2201</td>\n",
              "    </tr>\n",
              "    <tr>\n",
              "      <th>8</th>\n",
              "      <td>2019</td>\n",
              "      <td>1883</td>\n",
              "    </tr>\n",
              "    <tr>\n",
              "      <th>9</th>\n",
              "      <td>2020</td>\n",
              "      <td>751</td>\n",
              "    </tr>\n",
              "  </tbody>\n",
              "</table>\n",
              "</div>"
            ],
            "text/plain": [
              "   Year  size\n",
              "0  2011   998\n",
              "1  2012   981\n",
              "2  2013  1039\n",
              "3  2014  1127\n",
              "4  2015  1647\n",
              "5  2016  2092\n",
              "6  2017  2193\n",
              "7  2018  2201\n",
              "8  2019  1883\n",
              "9  2020   751"
            ]
          },
          "metadata": {
            "tags": []
          },
          "execution_count": 21
        }
      ]
    },
    {
      "cell_type": "code",
      "metadata": {
        "colab": {
          "base_uri": "https://localhost:8080/",
          "height": 530
        },
        "id": "lQucRdIauYaJ",
        "outputId": "b18c3080-e09c-4cf6-a019-5f6126adb63f"
      },
      "source": [
        "#plot1.T.plot(xlabel='year', ylabel='number of applications')\n",
        "plt.xlabel='연도'\n",
        "plt.ylabel='number of applications'\n",
        "plt.title = '연도별 특허 출원수'\n",
        "plt.figure(figsize=(10,6), dpi=100)\n",
        "plt.plot(plot1['Year'], plot1['size'], linewidth=2.5, c='g')\n",
        "plt.scatter(plot1['Year'], plot1['size'], c='g')"
      ],
      "execution_count": 22,
      "outputs": [
        {
          "output_type": "execute_result",
          "data": {
            "text/plain": [
              "<matplotlib.collections.PathCollection at 0x7f80712db210>"
            ]
          },
          "metadata": {
            "tags": []
          },
          "execution_count": 22
        },
        {
          "output_type": "display_data",
          "data": {
            "image/png": "[encoded data removed]",
            "text/plain": [
              "<Figure size 1000x600 with 1 Axes>"
            ]
          },
          "metadata": {
            "tags": [],
            "needs_background": "light"
          }
        }
      ]
    },
    {
      "cell_type": "code",
      "metadata": {
        "id": "qVMbLBeVx7pb"
      },
      "source": [
        "plot2 = df.groupby(['국가코드','Year'], as_index=False).size()\n",
        "#plot2 = df.groupby(['국가코드','Year']).size()"
      ],
      "execution_count": 23,
      "outputs": []
    },
    {
      "cell_type": "code",
      "metadata": {
        "colab": {
          "base_uri": "https://localhost:8080/",
          "height": 1000
        },
        "id": "HlcBOlyY6oIC",
        "outputId": "2ba20424-2104-4afc-d851-d549f37b5320"
      },
      "source": [
        "plot2"
      ],
      "execution_count": 24,
      "outputs": [
        {
          "output_type": "execute_result",
          "data": {
            "text/html": [
              "<div>\n",
              "<style scoped>\n",
              "    .dataframe tbody tr th:only-of-type {\n",
              "        vertical-align: middle;\n",
              "    }\n",
              "\n",
              "    .dataframe tbody tr th {\n",
              "        vertical-align: top;\n",
              "    }\n",
              "\n",
              "    .dataframe thead th {\n",
              "        text-align: right;\n",
              "    }\n",
              "</style>\n",
              "<table border=\"1\" class=\"dataframe\">\n",
              "  <thead>\n",
              "    <tr style=\"text-align: right;\">\n",
              "      <th></th>\n",
              "      <th>국가코드</th>\n",
              "      <th>Year</th>\n",
              "      <th>size</th>\n",
              "    </tr>\n",
              "  </thead>\n",
              "  <tbody>\n",
              "    <tr>\n",
              "      <th>0</th>\n",
              "      <td>EP</td>\n",
              "      <td>2011</td>\n",
              "      <td>124</td>\n",
              "    </tr>\n",
              "    <tr>\n",
              "      <th>1</th>\n",
              "      <td>EP</td>\n",
              "      <td>2012</td>\n",
              "      <td>143</td>\n",
              "    </tr>\n",
              "    <tr>\n",
              "      <th>2</th>\n",
              "      <td>EP</td>\n",
              "      <td>2013</td>\n",
              "      <td>131</td>\n",
              "    </tr>\n",
              "    <tr>\n",
              "      <th>3</th>\n",
              "      <td>EP</td>\n",
              "      <td>2014</td>\n",
              "      <td>152</td>\n",
              "    </tr>\n",
              "    <tr>\n",
              "      <th>4</th>\n",
              "      <td>EP</td>\n",
              "      <td>2015</td>\n",
              "      <td>197</td>\n",
              "    </tr>\n",
              "    <tr>\n",
              "      <th>5</th>\n",
              "      <td>EP</td>\n",
              "      <td>2016</td>\n",
              "      <td>234</td>\n",
              "    </tr>\n",
              "    <tr>\n",
              "      <th>6</th>\n",
              "      <td>EP</td>\n",
              "      <td>2017</td>\n",
              "      <td>183</td>\n",
              "    </tr>\n",
              "    <tr>\n",
              "      <th>7</th>\n",
              "      <td>EP</td>\n",
              "      <td>2018</td>\n",
              "      <td>199</td>\n",
              "    </tr>\n",
              "    <tr>\n",
              "      <th>8</th>\n",
              "      <td>EP</td>\n",
              "      <td>2019</td>\n",
              "      <td>132</td>\n",
              "    </tr>\n",
              "    <tr>\n",
              "      <th>9</th>\n",
              "      <td>EP</td>\n",
              "      <td>2020</td>\n",
              "      <td>16</td>\n",
              "    </tr>\n",
              "    <tr>\n",
              "      <th>10</th>\n",
              "      <td>JP</td>\n",
              "      <td>2011</td>\n",
              "      <td>86</td>\n",
              "    </tr>\n",
              "    <tr>\n",
              "      <th>11</th>\n",
              "      <td>JP</td>\n",
              "      <td>2012</td>\n",
              "      <td>87</td>\n",
              "    </tr>\n",
              "    <tr>\n",
              "      <th>12</th>\n",
              "      <td>JP</td>\n",
              "      <td>2013</td>\n",
              "      <td>104</td>\n",
              "    </tr>\n",
              "    <tr>\n",
              "      <th>13</th>\n",
              "      <td>JP</td>\n",
              "      <td>2014</td>\n",
              "      <td>115</td>\n",
              "    </tr>\n",
              "    <tr>\n",
              "      <th>14</th>\n",
              "      <td>JP</td>\n",
              "      <td>2015</td>\n",
              "      <td>156</td>\n",
              "    </tr>\n",
              "    <tr>\n",
              "      <th>15</th>\n",
              "      <td>JP</td>\n",
              "      <td>2016</td>\n",
              "      <td>142</td>\n",
              "    </tr>\n",
              "    <tr>\n",
              "      <th>16</th>\n",
              "      <td>JP</td>\n",
              "      <td>2017</td>\n",
              "      <td>129</td>\n",
              "    </tr>\n",
              "    <tr>\n",
              "      <th>17</th>\n",
              "      <td>JP</td>\n",
              "      <td>2018</td>\n",
              "      <td>116</td>\n",
              "    </tr>\n",
              "    <tr>\n",
              "      <th>18</th>\n",
              "      <td>JP</td>\n",
              "      <td>2019</td>\n",
              "      <td>107</td>\n",
              "    </tr>\n",
              "    <tr>\n",
              "      <th>19</th>\n",
              "      <td>JP</td>\n",
              "      <td>2020</td>\n",
              "      <td>26</td>\n",
              "    </tr>\n",
              "    <tr>\n",
              "      <th>20</th>\n",
              "      <td>KR</td>\n",
              "      <td>2011</td>\n",
              "      <td>316</td>\n",
              "    </tr>\n",
              "    <tr>\n",
              "      <th>21</th>\n",
              "      <td>KR</td>\n",
              "      <td>2012</td>\n",
              "      <td>260</td>\n",
              "    </tr>\n",
              "    <tr>\n",
              "      <th>22</th>\n",
              "      <td>KR</td>\n",
              "      <td>2013</td>\n",
              "      <td>334</td>\n",
              "    </tr>\n",
              "    <tr>\n",
              "      <th>23</th>\n",
              "      <td>KR</td>\n",
              "      <td>2014</td>\n",
              "      <td>242</td>\n",
              "    </tr>\n",
              "    <tr>\n",
              "      <th>24</th>\n",
              "      <td>KR</td>\n",
              "      <td>2015</td>\n",
              "      <td>552</td>\n",
              "    </tr>\n",
              "    <tr>\n",
              "      <th>25</th>\n",
              "      <td>KR</td>\n",
              "      <td>2016</td>\n",
              "      <td>754</td>\n",
              "    </tr>\n",
              "    <tr>\n",
              "      <th>26</th>\n",
              "      <td>KR</td>\n",
              "      <td>2017</td>\n",
              "      <td>759</td>\n",
              "    </tr>\n",
              "    <tr>\n",
              "      <th>27</th>\n",
              "      <td>KR</td>\n",
              "      <td>2018</td>\n",
              "      <td>787</td>\n",
              "    </tr>\n",
              "    <tr>\n",
              "      <th>28</th>\n",
              "      <td>KR</td>\n",
              "      <td>2019</td>\n",
              "      <td>677</td>\n",
              "    </tr>\n",
              "    <tr>\n",
              "      <th>29</th>\n",
              "      <td>KR</td>\n",
              "      <td>2020</td>\n",
              "      <td>167</td>\n",
              "    </tr>\n",
              "    <tr>\n",
              "      <th>30</th>\n",
              "      <td>US</td>\n",
              "      <td>2011</td>\n",
              "      <td>472</td>\n",
              "    </tr>\n",
              "    <tr>\n",
              "      <th>31</th>\n",
              "      <td>US</td>\n",
              "      <td>2012</td>\n",
              "      <td>491</td>\n",
              "    </tr>\n",
              "    <tr>\n",
              "      <th>32</th>\n",
              "      <td>US</td>\n",
              "      <td>2013</td>\n",
              "      <td>470</td>\n",
              "    </tr>\n",
              "    <tr>\n",
              "      <th>33</th>\n",
              "      <td>US</td>\n",
              "      <td>2014</td>\n",
              "      <td>618</td>\n",
              "    </tr>\n",
              "    <tr>\n",
              "      <th>34</th>\n",
              "      <td>US</td>\n",
              "      <td>2015</td>\n",
              "      <td>742</td>\n",
              "    </tr>\n",
              "    <tr>\n",
              "      <th>35</th>\n",
              "      <td>US</td>\n",
              "      <td>2016</td>\n",
              "      <td>962</td>\n",
              "    </tr>\n",
              "    <tr>\n",
              "      <th>36</th>\n",
              "      <td>US</td>\n",
              "      <td>2017</td>\n",
              "      <td>1122</td>\n",
              "    </tr>\n",
              "    <tr>\n",
              "      <th>37</th>\n",
              "      <td>US</td>\n",
              "      <td>2018</td>\n",
              "      <td>1099</td>\n",
              "    </tr>\n",
              "    <tr>\n",
              "      <th>38</th>\n",
              "      <td>US</td>\n",
              "      <td>2019</td>\n",
              "      <td>967</td>\n",
              "    </tr>\n",
              "    <tr>\n",
              "      <th>39</th>\n",
              "      <td>US</td>\n",
              "      <td>2020</td>\n",
              "      <td>542</td>\n",
              "    </tr>\n",
              "  </tbody>\n",
              "</table>\n",
              "</div>"
            ],
            "text/plain": [
              "   국가코드  Year  size\n",
              "0    EP  2011   124\n",
              "1    EP  2012   143\n",
              "2    EP  2013   131\n",
              "3    EP  2014   152\n",
              "4    EP  2015   197\n",
              "5    EP  2016   234\n",
              "6    EP  2017   183\n",
              "7    EP  2018   199\n",
              "8    EP  2019   132\n",
              "9    EP  2020    16\n",
              "10   JP  2011    86\n",
              "11   JP  2012    87\n",
              "12   JP  2013   104\n",
              "13   JP  2014   115\n",
              "14   JP  2015   156\n",
              "15   JP  2016   142\n",
              "16   JP  2017   129\n",
              "17   JP  2018   116\n",
              "18   JP  2019   107\n",
              "19   JP  2020    26\n",
              "20   KR  2011   316\n",
              "21   KR  2012   260\n",
              "22   KR  2013   334\n",
              "23   KR  2014   242\n",
              "24   KR  2015   552\n",
              "25   KR  2016   754\n",
              "26   KR  2017   759\n",
              "27   KR  2018   787\n",
              "28   KR  2019   677\n",
              "29   KR  2020   167\n",
              "30   US  2011   472\n",
              "31   US  2012   491\n",
              "32   US  2013   470\n",
              "33   US  2014   618\n",
              "34   US  2015   742\n",
              "35   US  2016   962\n",
              "36   US  2017  1122\n",
              "37   US  2018  1099\n",
              "38   US  2019   967\n",
              "39   US  2020   542"
            ]
          },
          "metadata": {
            "tags": []
          },
          "execution_count": 24
        }
      ]
    },
    {
      "cell_type": "code",
      "metadata": {
        "colab": {
          "base_uri": "https://localhost:8080/"
        },
        "id": "ew3nEwy87u1n",
        "outputId": "bd4c3a76-283e-44c3-8163-c7997c98d6a2"
      },
      "source": [
        "plot2[plot2['국가코드']=='EP']['Year']"
      ],
      "execution_count": 25,
      "outputs": [
        {
          "output_type": "execute_result",
          "data": {
            "text/plain": [
              "0    2011\n",
              "1    2012\n",
              "2    2013\n",
              "3    2014\n",
              "4    2015\n",
              "5    2016\n",
              "6    2017\n",
              "7    2018\n",
              "8    2019\n",
              "9    2020\n",
              "Name: Year, dtype: object"
            ]
          },
          "metadata": {
            "tags": []
          },
          "execution_count": 25
        }
      ]
    },
    {
      "cell_type": "code",
      "metadata": {
        "colab": {
          "base_uri": "https://localhost:8080/",
          "height": 530
        },
        "id": "vqrVjVvbyQxx",
        "outputId": "a56e0b28-c542-470f-875f-4661db9cbd25"
      },
      "source": [
        "plt.figure(figsize=(10,6), dpi=100)\n",
        "plt.plot(plot2[plot2['국가코드']=='EP']['Year'], plot2[plot2['국가코드']=='EP']['size'],'r', label='EP', linewidth=2.5)\n",
        "plt.scatter(plot2[plot2['국가코드']=='EP']['Year'], plot2[plot2['국가코드']=='EP']['size'], c='r')\n",
        "plt.plot(plot2[plot2['국가코드']=='JP']['Year'], plot2[plot2['국가코드']=='JP']['size'],'b', label='JP', linewidth=2.5)\n",
        "plt.scatter(plot2[plot2['국가코드']=='JP']['Year'], plot2[plot2['국가코드']=='JP']['size'], c='b')\n",
        "plt.plot(plot2[plot2['국가코드']=='KR']['Year'], plot2[plot2['국가코드']=='KR']['size'],'g', label='KR', linewidth=2.5)\n",
        "plt.scatter(plot2[plot2['국가코드']=='KR']['Year'], plot2[plot2['국가코드']=='KR']['size'], c='g')\n",
        "plt.plot(plot2[plot2['국가코드']=='US']['Year'], plot2[plot2['국가코드']=='US']['size'],'c', label='US', linewidth=2.5)\n",
        "plt.scatter(plot2[plot2['국가코드']=='US']['Year'], plot2[plot2['국가코드']=='US']['size'], c='c')\n",
        "plt.legend()"
      ],
      "execution_count": 26,
      "outputs": [
        {
          "output_type": "execute_result",
          "data": {
            "text/plain": [
              "<matplotlib.legend.Legend at 0x7f80713c5450>"
            ]
          },
          "metadata": {
            "tags": []
          },
          "execution_count": 26
        },
        {
          "output_type": "display_data",
          "data": {
            "image/png": "[encoded data removed]",
            "text/plain": [
              "<Figure size 1000x600 with 1 Axes>"
            ]
          },
          "metadata": {
            "tags": [],
            "needs_background": "light"
          }
        }
      ]
    },
    {
      "cell_type": "code",
      "metadata": {
        "colab": {
          "base_uri": "https://localhost:8080/",
          "height": 166
        },
        "id": "GUxL6Gtj_zSb",
        "outputId": "4e8c9c53-ce33-47ab-de0e-f75854c852e4"
      },
      "source": [
        "plot3 = df.groupby(['국가코드'], as_index=False).size()\n",
        "plot3"
      ],
      "execution_count": 27,
      "outputs": [
        {
          "output_type": "execute_result",
          "data": {
            "text/html": [
              "<div>\n",
              "<style scoped>\n",
              "    .dataframe tbody tr th:only-of-type {\n",
              "        vertical-align: middle;\n",
              "    }\n",
              "\n",
              "    .dataframe tbody tr th {\n",
              "        vertical-align: top;\n",
              "    }\n",
              "\n",
              "    .dataframe thead th {\n",
              "        text-align: right;\n",
              "    }\n",
              "</style>\n",
              "<table border=\"1\" class=\"dataframe\">\n",
              "  <thead>\n",
              "    <tr style=\"text-align: right;\">\n",
              "      <th></th>\n",
              "      <th>국가코드</th>\n",
              "      <th>size</th>\n",
              "    </tr>\n",
              "  </thead>\n",
              "  <tbody>\n",
              "    <tr>\n",
              "      <th>0</th>\n",
              "      <td>EP</td>\n",
              "      <td>1511</td>\n",
              "    </tr>\n",
              "    <tr>\n",
              "      <th>1</th>\n",
              "      <td>JP</td>\n",
              "      <td>1068</td>\n",
              "    </tr>\n",
              "    <tr>\n",
              "      <th>2</th>\n",
              "      <td>KR</td>\n",
              "      <td>4848</td>\n",
              "    </tr>\n",
              "    <tr>\n",
              "      <th>3</th>\n",
              "      <td>US</td>\n",
              "      <td>7485</td>\n",
              "    </tr>\n",
              "  </tbody>\n",
              "</table>\n",
              "</div>"
            ],
            "text/plain": [
              "  국가코드  size\n",
              "0   EP  1511\n",
              "1   JP  1068\n",
              "2   KR  4848\n",
              "3   US  7485"
            ]
          },
          "metadata": {
            "tags": []
          },
          "execution_count": 27
        }
      ]
    },
    {
      "cell_type": "code",
      "metadata": {
        "colab": {
          "base_uri": "https://localhost:8080/",
          "height": 700
        },
        "id": "j-w2FoWOAL6w",
        "outputId": "bd72b261-4bbd-4bef-9a19-4b299a253881"
      },
      "source": [
        "plt.figure(figsize=(10,6), dpi=100)\n",
        "explode = [0.1, 0.1, 0.05, 0.05]\n",
        "plt.pie(plot3['size'], labels=plot3['국가코드'], autopct='%.1f%%', explode=explode)"
      ],
      "execution_count": 28,
      "outputs": [
        {
          "output_type": "execute_result",
          "data": {
            "text/plain": [
              "([<matplotlib.patches.Wedge at 0x7f806fa50190>,\n",
              "  <matplotlib.patches.Wedge at 0x7f806fa508d0>,\n",
              "  <matplotlib.patches.Wedge at 0x7f806fa58190>,\n",
              "  <matplotlib.patches.Wedge at 0x7f806fa58a90>],\n",
              " [Text(1.1397110616438442, 0.37557781612691327, 'EP'),\n",
              "  Text(0.7814117984484005, 0.9107115905958574, 'JP'),\n",
              "  Text(-0.5885144986378601, 0.9880033830372386, 'KR'),\n",
              "  Text(-0.007025958592711501, -1.1499785371500868, 'US')],\n",
              " [Text(0.6648314526255757, 0.21908705940736606, '10.1%'),\n",
              "  Text(0.4558235490949002, 0.5312484278475835, '7.2%'),\n",
              "  Text(-0.33263862966487745, 0.5584366947601782, '32.5%'),\n",
              "  Text(-0.003971193987184761, -0.6499878688239621, '50.2%')])"
            ]
          },
          "metadata": {
            "tags": []
          },
          "execution_count": 28
        },
        {
          "output_type": "display_data",
          "data": {
            "image/png": "[encoded data removed]",
            "text/plain": [
              "<Figure size 1000x600 with 1 Axes>"
            ]
          },
          "metadata": {
            "tags": []
          }
        }
      ]
    },
    {
      "cell_type": "code",
      "metadata": {
        "colab": {
          "base_uri": "https://localhost:8080/",
          "height": 343
        },
        "id": "lAWfNQcIDLXR",
        "outputId": "e70b9628-76d3-43ed-9d61-1aeaf0008534"
      },
      "source": [
        "plot1"
      ],
      "execution_count": 29,
      "outputs": [
        {
          "output_type": "execute_result",
          "data": {
            "text/html": [
              "<div>\n",
              "<style scoped>\n",
              "    .dataframe tbody tr th:only-of-type {\n",
              "        vertical-align: middle;\n",
              "    }\n",
              "\n",
              "    .dataframe tbody tr th {\n",
              "        vertical-align: top;\n",
              "    }\n",
              "\n",
              "    .dataframe thead th {\n",
              "        text-align: right;\n",
              "    }\n",
              "</style>\n",
              "<table border=\"1\" class=\"dataframe\">\n",
              "  <thead>\n",
              "    <tr style=\"text-align: right;\">\n",
              "      <th></th>\n",
              "      <th>Year</th>\n",
              "      <th>size</th>\n",
              "    </tr>\n",
              "  </thead>\n",
              "  <tbody>\n",
              "    <tr>\n",
              "      <th>0</th>\n",
              "      <td>2011</td>\n",
              "      <td>998</td>\n",
              "    </tr>\n",
              "    <tr>\n",
              "      <th>1</th>\n",
              "      <td>2012</td>\n",
              "      <td>981</td>\n",
              "    </tr>\n",
              "    <tr>\n",
              "      <th>2</th>\n",
              "      <td>2013</td>\n",
              "      <td>1039</td>\n",
              "    </tr>\n",
              "    <tr>\n",
              "      <th>3</th>\n",
              "      <td>2014</td>\n",
              "      <td>1127</td>\n",
              "    </tr>\n",
              "    <tr>\n",
              "      <th>4</th>\n",
              "      <td>2015</td>\n",
              "      <td>1647</td>\n",
              "    </tr>\n",
              "    <tr>\n",
              "      <th>5</th>\n",
              "      <td>2016</td>\n",
              "      <td>2092</td>\n",
              "    </tr>\n",
              "    <tr>\n",
              "      <th>6</th>\n",
              "      <td>2017</td>\n",
              "      <td>2193</td>\n",
              "    </tr>\n",
              "    <tr>\n",
              "      <th>7</th>\n",
              "      <td>2018</td>\n",
              "      <td>2201</td>\n",
              "    </tr>\n",
              "    <tr>\n",
              "      <th>8</th>\n",
              "      <td>2019</td>\n",
              "      <td>1883</td>\n",
              "    </tr>\n",
              "    <tr>\n",
              "      <th>9</th>\n",
              "      <td>2020</td>\n",
              "      <td>751</td>\n",
              "    </tr>\n",
              "  </tbody>\n",
              "</table>\n",
              "</div>"
            ],
            "text/plain": [
              "   Year  size\n",
              "0  2011   998\n",
              "1  2012   981\n",
              "2  2013  1039\n",
              "3  2014  1127\n",
              "4  2015  1647\n",
              "5  2016  2092\n",
              "6  2017  2193\n",
              "7  2018  2201\n",
              "8  2019  1883\n",
              "9  2020   751"
            ]
          },
          "metadata": {
            "tags": []
          },
          "execution_count": 29
        }
      ]
    },
    {
      "cell_type": "code",
      "metadata": {
        "colab": {
          "base_uri": "https://localhost:8080/",
          "height": 195
        },
        "id": "dUPO4LzCFRzr",
        "outputId": "63c12478-efaa-46c2-f661-b78821252296"
      },
      "source": [
        "raw_data = {'출원건수' : [1979,2166,3739,4394,2634],\n",
        "            '증가율' : [0,0.09449, 0.72622, 0.17518,-0.40054]}\n",
        "\n",
        "plot4 = DataFrame(raw_data)\n",
        "plot4"
      ],
      "execution_count": 30,
      "outputs": [
        {
          "output_type": "execute_result",
          "data": {
            "text/html": [
              "<div>\n",
              "<style scoped>\n",
              "    .dataframe tbody tr th:only-of-type {\n",
              "        vertical-align: middle;\n",
              "    }\n",
              "\n",
              "    .dataframe tbody tr th {\n",
              "        vertical-align: top;\n",
              "    }\n",
              "\n",
              "    .dataframe thead th {\n",
              "        text-align: right;\n",
              "    }\n",
              "</style>\n",
              "<table border=\"1\" class=\"dataframe\">\n",
              "  <thead>\n",
              "    <tr style=\"text-align: right;\">\n",
              "      <th></th>\n",
              "      <th>출원건수</th>\n",
              "      <th>증가율</th>\n",
              "    </tr>\n",
              "  </thead>\n",
              "  <tbody>\n",
              "    <tr>\n",
              "      <th>0</th>\n",
              "      <td>1979</td>\n",
              "      <td>0.00000</td>\n",
              "    </tr>\n",
              "    <tr>\n",
              "      <th>1</th>\n",
              "      <td>2166</td>\n",
              "      <td>0.09449</td>\n",
              "    </tr>\n",
              "    <tr>\n",
              "      <th>2</th>\n",
              "      <td>3739</td>\n",
              "      <td>0.72622</td>\n",
              "    </tr>\n",
              "    <tr>\n",
              "      <th>3</th>\n",
              "      <td>4394</td>\n",
              "      <td>0.17518</td>\n",
              "    </tr>\n",
              "    <tr>\n",
              "      <th>4</th>\n",
              "      <td>2634</td>\n",
              "      <td>-0.40054</td>\n",
              "    </tr>\n",
              "  </tbody>\n",
              "</table>\n",
              "</div>"
            ],
            "text/plain": [
              "   출원건수      증가율\n",
              "0  1979  0.00000\n",
              "1  2166  0.09449\n",
              "2  3739  0.72622\n",
              "3  4394  0.17518\n",
              "4  2634 -0.40054"
            ]
          },
          "metadata": {
            "tags": []
          },
          "execution_count": 30
        }
      ]
    },
    {
      "cell_type": "code",
      "metadata": {
        "colab": {
          "base_uri": "https://localhost:8080/",
          "height": 519
        },
        "id": "0h1zNc_SHnbb",
        "outputId": "393b5efb-2b31-404a-9cd4-a8f12db7db3f"
      },
      "source": [
        "plt.figure(figsize=(10,6), dpi=100)\n",
        "plt.xlim(1500,5000)\n",
        "plt.ylim(-0.7,1.0)\n",
        "plt.axhline(y=0, color = 'r')\n",
        "plt.scatter(plot4['출원건수'], plot4['증가율'], s=plot4['출원건수'])\n",
        "plt.scatter(plot4['출원건수'], plot4['증가율'], c='b')\n",
        "plt.plot(plot4['출원건수'], plot4['증가율'], c='g')\n",
        "plot4['index'] = ['11~12','13~14','15~16','17~18','19~20']\n",
        "for i, txt in enumerate(plot4['index']):\n",
        "    plt.annotate(txt, (plot4['출원건수'][i], plot4['증가율'][i]), c='black')"
      ],
      "execution_count": 31,
      "outputs": [
        {
          "output_type": "display_data",
          "data": {
            "image/png": "[encoded data removed]",
            "text/plain": [
              "<Figure size 1000x600 with 1 Axes>"
            ]
          },
          "metadata": {
            "tags": [],
            "needs_background": "light"
          }
        }
      ]
    },
    {
      "cell_type": "code",
      "metadata": {
        "id": "YwjPQso8VsjH"
      },
      "source": [
        "df = df.reset_index()"
      ],
      "execution_count": 32,
      "outputs": []
    },
    {
      "cell_type": "code",
      "metadata": {
        "colab": {
          "base_uri": "https://localhost:8080/"
        },
        "id": "jqdBZH9cWYzG",
        "outputId": "078a7347-fbf1-4400-a5f1-760601115ca1"
      },
      "source": [
        "df['출원인수']"
      ],
      "execution_count": 33,
      "outputs": [
        {
          "output_type": "execute_result",
          "data": {
            "text/plain": [
              "0        1\n",
              "1        1\n",
              "2        1\n",
              "3        1\n",
              "4        1\n",
              "        ..\n",
              "14907    1\n",
              "14908    1\n",
              "14909    1\n",
              "14910    1\n",
              "14911    1\n",
              "Name: 출원인수, Length: 14912, dtype: int64"
            ]
          },
          "metadata": {
            "tags": []
          },
          "execution_count": 33
        }
      ]
    },
    {
      "cell_type": "code",
      "metadata": {
        "id": "Grm7RMwjYqKM"
      },
      "source": [
        "df = df.dropna(axis=0, subset=['출원인수'])"
      ],
      "execution_count": 34,
      "outputs": []
    },
    {
      "cell_type": "code",
      "metadata": {
        "colab": {
          "base_uri": "https://localhost:8080/",
          "height": 343
        },
        "id": "XQQUssPa0NhM",
        "outputId": "6c88cd9e-0bf6-4f8d-a378-d023a0962a51"
      },
      "source": [
        "plot5 = df.groupby(['Year'], as_index=False)['출원인수'].sum()\n",
        "plot5"
      ],
      "execution_count": 35,
      "outputs": [
        {
          "output_type": "execute_result",
          "data": {
            "text/html": [
              "<div>\n",
              "<style scoped>\n",
              "    .dataframe tbody tr th:only-of-type {\n",
              "        vertical-align: middle;\n",
              "    }\n",
              "\n",
              "    .dataframe tbody tr th {\n",
              "        vertical-align: top;\n",
              "    }\n",
              "\n",
              "    .dataframe thead th {\n",
              "        text-align: right;\n",
              "    }\n",
              "</style>\n",
              "<table border=\"1\" class=\"dataframe\">\n",
              "  <thead>\n",
              "    <tr style=\"text-align: right;\">\n",
              "      <th></th>\n",
              "      <th>Year</th>\n",
              "      <th>출원인수</th>\n",
              "    </tr>\n",
              "  </thead>\n",
              "  <tbody>\n",
              "    <tr>\n",
              "      <th>0</th>\n",
              "      <td>2011</td>\n",
              "      <td>1079</td>\n",
              "    </tr>\n",
              "    <tr>\n",
              "      <th>1</th>\n",
              "      <td>2012</td>\n",
              "      <td>1121</td>\n",
              "    </tr>\n",
              "    <tr>\n",
              "      <th>2</th>\n",
              "      <td>2013</td>\n",
              "      <td>1168</td>\n",
              "    </tr>\n",
              "    <tr>\n",
              "      <th>3</th>\n",
              "      <td>2014</td>\n",
              "      <td>1243</td>\n",
              "    </tr>\n",
              "    <tr>\n",
              "      <th>4</th>\n",
              "      <td>2015</td>\n",
              "      <td>1848</td>\n",
              "    </tr>\n",
              "    <tr>\n",
              "      <th>5</th>\n",
              "      <td>2016</td>\n",
              "      <td>2298</td>\n",
              "    </tr>\n",
              "    <tr>\n",
              "      <th>6</th>\n",
              "      <td>2017</td>\n",
              "      <td>2467</td>\n",
              "    </tr>\n",
              "    <tr>\n",
              "      <th>7</th>\n",
              "      <td>2018</td>\n",
              "      <td>2421</td>\n",
              "    </tr>\n",
              "    <tr>\n",
              "      <th>8</th>\n",
              "      <td>2019</td>\n",
              "      <td>2027</td>\n",
              "    </tr>\n",
              "    <tr>\n",
              "      <th>9</th>\n",
              "      <td>2020</td>\n",
              "      <td>799</td>\n",
              "    </tr>\n",
              "  </tbody>\n",
              "</table>\n",
              "</div>"
            ],
            "text/plain": [
              "   Year  출원인수\n",
              "0  2011  1079\n",
              "1  2012  1121\n",
              "2  2013  1168\n",
              "3  2014  1243\n",
              "4  2015  1848\n",
              "5  2016  2298\n",
              "6  2017  2467\n",
              "7  2018  2421\n",
              "8  2019  2027\n",
              "9  2020   799"
            ]
          },
          "metadata": {
            "tags": []
          },
          "execution_count": 35
        }
      ]
    },
    {
      "cell_type": "code",
      "metadata": {
        "colab": {
          "base_uri": "https://localhost:8080/",
          "height": 343
        },
        "id": "gDqp63I16zJY",
        "outputId": "b9536f56-15d7-470a-a34d-dadd9df921b3"
      },
      "source": [
        "temp_plot = df.groupby(['Year'], as_index=False).size()\n",
        "plot5['출원건수'] = temp_plot['size']\n",
        "plot5"
      ],
      "execution_count": 36,
      "outputs": [
        {
          "output_type": "execute_result",
          "data": {
            "text/html": [
              "<div>\n",
              "<style scoped>\n",
              "    .dataframe tbody tr th:only-of-type {\n",
              "        vertical-align: middle;\n",
              "    }\n",
              "\n",
              "    .dataframe tbody tr th {\n",
              "        vertical-align: top;\n",
              "    }\n",
              "\n",
              "    .dataframe thead th {\n",
              "        text-align: right;\n",
              "    }\n",
              "</style>\n",
              "<table border=\"1\" class=\"dataframe\">\n",
              "  <thead>\n",
              "    <tr style=\"text-align: right;\">\n",
              "      <th></th>\n",
              "      <th>Year</th>\n",
              "      <th>출원인수</th>\n",
              "      <th>출원건수</th>\n",
              "    </tr>\n",
              "  </thead>\n",
              "  <tbody>\n",
              "    <tr>\n",
              "      <th>0</th>\n",
              "      <td>2011</td>\n",
              "      <td>1079</td>\n",
              "      <td>998</td>\n",
              "    </tr>\n",
              "    <tr>\n",
              "      <th>1</th>\n",
              "      <td>2012</td>\n",
              "      <td>1121</td>\n",
              "      <td>981</td>\n",
              "    </tr>\n",
              "    <tr>\n",
              "      <th>2</th>\n",
              "      <td>2013</td>\n",
              "      <td>1168</td>\n",
              "      <td>1039</td>\n",
              "    </tr>\n",
              "    <tr>\n",
              "      <th>3</th>\n",
              "      <td>2014</td>\n",
              "      <td>1243</td>\n",
              "      <td>1127</td>\n",
              "    </tr>\n",
              "    <tr>\n",
              "      <th>4</th>\n",
              "      <td>2015</td>\n",
              "      <td>1848</td>\n",
              "      <td>1647</td>\n",
              "    </tr>\n",
              "    <tr>\n",
              "      <th>5</th>\n",
              "      <td>2016</td>\n",
              "      <td>2298</td>\n",
              "      <td>2092</td>\n",
              "    </tr>\n",
              "    <tr>\n",
              "      <th>6</th>\n",
              "      <td>2017</td>\n",
              "      <td>2467</td>\n",
              "      <td>2193</td>\n",
              "    </tr>\n",
              "    <tr>\n",
              "      <th>7</th>\n",
              "      <td>2018</td>\n",
              "      <td>2421</td>\n",
              "      <td>2201</td>\n",
              "    </tr>\n",
              "    <tr>\n",
              "      <th>8</th>\n",
              "      <td>2019</td>\n",
              "      <td>2027</td>\n",
              "      <td>1883</td>\n",
              "    </tr>\n",
              "    <tr>\n",
              "      <th>9</th>\n",
              "      <td>2020</td>\n",
              "      <td>799</td>\n",
              "      <td>751</td>\n",
              "    </tr>\n",
              "  </tbody>\n",
              "</table>\n",
              "</div>"
            ],
            "text/plain": [
              "   Year  출원인수  출원건수\n",
              "0  2011  1079   998\n",
              "1  2012  1121   981\n",
              "2  2013  1168  1039\n",
              "3  2014  1243  1127\n",
              "4  2015  1848  1647\n",
              "5  2016  2298  2092\n",
              "6  2017  2467  2193\n",
              "7  2018  2421  2201\n",
              "8  2019  2027  1883\n",
              "9  2020   799   751"
            ]
          },
          "metadata": {
            "tags": []
          },
          "execution_count": 36
        }
      ]
    },
    {
      "cell_type": "code",
      "metadata": {
        "colab": {
          "base_uri": "https://localhost:8080/",
          "height": 742
        },
        "id": "Thhe-Mhg7NIa",
        "outputId": "c3028ec4-074d-4b72-c567-693288359ddc"
      },
      "source": [
        "plt.figure(figsize=(10,6), dpi=100)\n",
        "plt.xlim(700,2700)\n",
        "plt.ylim(600,2500)\n",
        "plt.xlabel('applicators')\n",
        "plt.ylabel('applications')\n",
        "plt.scatter(plot5['출원인수'], plot5['출원건수'], s=plot5['출원건수'])\n",
        "plt.scatter(plot5['출원인수'], plot5['출원건수'], c='b')\n",
        "plt.plot(plot5['출원인수'], plot5['출원건수'], c='g')\n",
        "for i, txt in enumerate(plot5['Year']):\n",
        "    plt.annotate(txt, (plot5['출원인수'][i], plot5['출원건수'][i]))"
      ],
      "execution_count": 37,
      "outputs": [
        {
          "output_type": "error",
          "ename": "TypeError",
          "evalue": "ignored",
          "traceback": [
            "\u001b[0;31m---------------------------------------------------------------------------\u001b[0m",
            "\u001b[0;31mTypeError\u001b[0m                                 Traceback (most recent call last)",
            "\u001b[0;32m<ipython-input-37-1400f144a254>\u001b[0m in \u001b[0;36m<module>\u001b[0;34m()\u001b[0m\n\u001b[1;32m      2\u001b[0m \u001b[0mplt\u001b[0m\u001b[0;34m.\u001b[0m\u001b[0mxlim\u001b[0m\u001b[0;34m(\u001b[0m\u001b[0;36m700\u001b[0m\u001b[0;34m,\u001b[0m\u001b[0;36m2700\u001b[0m\u001b[0;34m)\u001b[0m\u001b[0;34m\u001b[0m\u001b[0;34m\u001b[0m\u001b[0m\n\u001b[1;32m      3\u001b[0m \u001b[0mplt\u001b[0m\u001b[0;34m.\u001b[0m\u001b[0mylim\u001b[0m\u001b[0;34m(\u001b[0m\u001b[0;36m600\u001b[0m\u001b[0;34m,\u001b[0m\u001b[0;36m2500\u001b[0m\u001b[0;34m)\u001b[0m\u001b[0;34m\u001b[0m\u001b[0;34m\u001b[0m\u001b[0m\n\u001b[0;32m----> 4\u001b[0;31m \u001b[0mplt\u001b[0m\u001b[0;34m.\u001b[0m\u001b[0mxlabel\u001b[0m\u001b[0;34m(\u001b[0m\u001b[0;34m'applicators'\u001b[0m\u001b[0;34m)\u001b[0m\u001b[0;34m\u001b[0m\u001b[0;34m\u001b[0m\u001b[0m\n\u001b[0m\u001b[1;32m      5\u001b[0m \u001b[0mplt\u001b[0m\u001b[0;34m.\u001b[0m\u001b[0mylabel\u001b[0m\u001b[0;34m(\u001b[0m\u001b[0;34m'applications'\u001b[0m\u001b[0;34m)\u001b[0m\u001b[0;34m\u001b[0m\u001b[0;34m\u001b[0m\u001b[0m\n\u001b[1;32m      6\u001b[0m \u001b[0mplt\u001b[0m\u001b[0;34m.\u001b[0m\u001b[0mscatter\u001b[0m\u001b[0;34m(\u001b[0m\u001b[0mplot5\u001b[0m\u001b[0;34m[\u001b[0m\u001b[0;34m'출원인수'\u001b[0m\u001b[0;34m]\u001b[0m\u001b[0;34m,\u001b[0m \u001b[0mplot5\u001b[0m\u001b[0;34m[\u001b[0m\u001b[0;34m'출원건수'\u001b[0m\u001b[0;34m]\u001b[0m\u001b[0;34m,\u001b[0m \u001b[0ms\u001b[0m\u001b[0;34m=\u001b[0m\u001b[0mplot5\u001b[0m\u001b[0;34m[\u001b[0m\u001b[0;34m'출원건수'\u001b[0m\u001b[0;34m]\u001b[0m\u001b[0;34m)\u001b[0m\u001b[0;34m\u001b[0m\u001b[0;34m\u001b[0m\u001b[0m\n",
            "\u001b[0;31mTypeError\u001b[0m: 'str' object is not callable"
          ]
        },
        {
          "output_type": "display_data",
          "data": {
            "image/png": "[encoded data removed]",
            "text/plain": [
              "<Figure size 1000x600 with 1 Axes>"
            ]
          },
          "metadata": {
            "tags": [],
            "needs_background": "light"
          }
        }
      ]
    },
    {
      "cell_type": "code",
      "metadata": {
        "id": "8TMj5sdpaHbj"
      },
      "source": [
        "df = df.dropna(axis=0, subset=['등록번호'])\n",
        "plot6 = df.groupby(['Year'], as_index=False).size()\n",
        "plot6"
      ],
      "execution_count": null,
      "outputs": []
    },
    {
      "cell_type": "code",
      "metadata": {
        "id": "-OOnwz83afli"
      },
      "source": [
        "temp_list = []\n",
        "temp_size = 0\n",
        "for i in range(len(plot6)):\n",
        "  temp_size = temp_size + plot6['size'][i]\n",
        "  temp_list.append(temp_size)\n",
        "\n",
        "temp_list"
      ],
      "execution_count": null,
      "outputs": []
    },
    {
      "cell_type": "code",
      "metadata": {
        "id": "ULgC6nsnbBmL"
      },
      "source": [
        "plot6['누적등록수'] = temp_list\n",
        "plot6"
      ],
      "execution_count": null,
      "outputs": []
    }
  ]
}